{
 "cells": [
  {
   "cell_type": "markdown",
   "id": "bddc6b54-3b76-47a6-bde0-66717855a0df",
   "metadata": {},
   "source": [
    "## Section 4 – Language Models exploration"
   ]
  },
  {
   "cell_type": "code",
   "execution_count": null,
   "id": "ad247c5d-f300-4af2-9973-a6d2af68e024",
   "metadata": {},
   "outputs": [],
   "source": []
  }
 ],
 "metadata": {
  "kernelspec": {
   "display_name": "Python 3 (ipykernel)",
   "language": "python",
   "name": "python3"
  },
  "language_info": {
   "codemirror_mode": {
    "name": "ipython",
    "version": 3
   },
   "file_extension": ".py",
   "mimetype": "text/x-python",
   "name": "python",
   "nbconvert_exporter": "python",
   "pygments_lexer": "ipython3",
   "version": "3.11.2"
  }
 },
 "nbformat": 4,
 "nbformat_minor": 5
}
