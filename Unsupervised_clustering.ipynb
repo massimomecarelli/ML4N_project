{
 "cells": [
  {
   "cell_type": "markdown",
   "id": "5f7b4056-9758-4cd5-a1fa-370929739035",
   "metadata": {},
   "source": [
    "## Section 3 – Unsupervised learning – clustering"
   ]
  },
  {
   "cell_type": "code",
   "execution_count": null,
   "id": "70e37751-6fd4-40ea-8efb-db4c464c4be1",
   "metadata": {},
   "outputs": [],
   "source": []
  }
 ],
 "metadata": {
  "kernelspec": {
   "display_name": "Python 3 (ipykernel)",
   "language": "python",
   "name": "python3"
  },
  "language_info": {
   "codemirror_mode": {
    "name": "ipython",
    "version": 3
   },
   "file_extension": ".py",
   "mimetype": "text/x-python",
   "name": "python",
   "nbconvert_exporter": "python",
   "pygments_lexer": "ipython3",
   "version": "3.11.2"
  }
 },
 "nbformat": 4,
 "nbformat_minor": 5
}
