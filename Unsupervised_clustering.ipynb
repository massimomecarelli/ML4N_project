{
 "cells": [
  {
   "cell_type": "markdown",
   "id": "5f7b4056-9758-4cd5-a1fa-370929739035",
   "metadata": {},
   "source": [
    "## Section 3 – Unsupervised learning – clustering"
   ]
  },
  {
   "cell_type": "code",
   "execution_count": 6,
   "id": "70e37751-6fd4-40ea-8efb-db4c464c4be1",
   "metadata": {},
   "outputs": [],
   "source": [
    "import pandas as pd\n",
    "import numpy as np\n",
    "import matplotlib.pyplot as plt\n",
    "import seaborn as sns\n",
    "from sklearn.cluster import KMeans\n",
    "from sklearn.mixture import GaussianMixture\n",
    "from sklearn.metrics import silhouette_score\n",
    "from sklearn.model_selection import GridSearchCV\n",
    "from wordcloud import WordCloud\n",
    "from sklearn.manifold import TSNE"
   ]
  },
  {
   "cell_type": "code",
   "execution_count": 3,
   "id": "606fa9d2-abbd-45f9-bf46-2bd53e80acda",
   "metadata": {},
   "outputs": [],
   "source": [
    "df = pd.read_parquet(\"df_tfidf.parquet\")\n",
    "\n",
    "X = df.drop(columns=[\"Set_Fingerprint\"])"
   ]
  },
  {
   "cell_type": "markdown",
   "id": "5985582d-5943-42d4-a42c-8964965cba62",
   "metadata": {},
   "source": [
    "## 3.1 Determine the number of clusters"
   ]
  },
  {
   "cell_type": "markdown",
   "id": "8f8f2224-13af-437c-9c03-fac3779b1e16",
   "metadata": {},
   "source": [
    "### 3.1.1 K-means"
   ]
  },
  {
   "cell_type": "code",
   "execution_count": null,
   "id": "11fd5215-b2b7-4458-8fca-cd8f0363a3cb",
   "metadata": {},
   "outputs": [],
   "source": [
    "# Within-Cluster Sum of Squares (WCSS): For each value of k (number of clusters), \n",
    "# calculate the sum of squared distances (WCSS) between points and their respective cluster centroids.\n",
    "wcss = []\n",
    "silhouette_scores_kmeans = []\n",
    "n_cluster_list_kmeans = []\n",
    "\n",
    "\n",
    "# Compute WCSS for different values of k\n",
    "for n_clusters in range(3, 10):\n",
    "    kmeans = KMeans(n_clusters=n_clusters, random_state=42)\n",
    "    cluster_labels = kmeans.fit(X)\n",
    "    \n",
    "    wcss.append(kmeans.inertia_)  # WCSS is stored in the `inertia_` attribute\n",
    "    silhouette_scores_kmeans.append(silhouette_score(X, kmeans.labels_))\n",
    "    n_cluster_list_kmeans.append(n_clusters)\n",
    "\n"
   ]
  },
  {
   "cell_type": "code",
   "execution_count": null,
   "id": "5173b279-0bfa-4bd4-95ee-b2605021146c",
   "metadata": {},
   "outputs": [],
   "source": [
    "plt.figure(figsize=(14, 6))\n",
    "\n",
    "plt.subplot(1, 2, 1)\n",
    "plt.plot(n_cluster_list_kmeans, wcss, marker='o', linestyle='--', color='blue')\n",
    "plt.title('Elbow Method for Kmeans')\n",
    "plt.xlabel('Number of Clusters (k)')\n",
    "plt.ylabel('WCSS')\n",
    "plt.xticks(range(3, 8))\n",
    "\n",
    "# Plot the Silhouette Method\n",
    "plt.subplot(1, 2, 2)\n",
    "plt.plot(n_cluster_list_kmeans, silhouette_scores_kmeans, marker='o', linestyle='--', color='orange')\n",
    "plt.title('Silhouette Method for Kmeans')\n",
    "plt.xlabel('Number of Clusters (k)')\n",
    "plt.ylabel('Silhouette Score')\n",
    "plt.xticks(range(3, 8))\n",
    "\n",
    "plt.tight_layout()\n",
    "plt.show()"
   ]
  },
  {
   "cell_type": "markdown",
   "id": "ad89e644-a8ed-40ef-8eaf-957c4dc33d12",
   "metadata": {},
   "source": [
    "### 3.1.2 GMM"
   ]
  },
  {
   "cell_type": "code",
   "execution_count": null,
   "id": "1663df12-819a-484b-94ca-9695c7c7ac68",
   "metadata": {},
   "outputs": [],
   "source": [
    "n_cluster_list_gmm =[]\n",
    "silhouette_list_gmm = []\n",
    "log_l_list=[]\n",
    "\n",
    "for n_clusters in range(3, 10):\n",
    "    gmm = GaussianMixture(n_components=n_clusters)\n",
    "    cl_labels = gmm.fit_predict(X)\n",
    "    n_cluster_list_gmm.append(n_clusters)\n",
    "    silhouette_list_gmm.append(silhouette_score(X, cl_labels))\n",
    "    log_l_list.append(gmm.score(X))\n"
   ]
  },
  {
   "cell_type": "code",
   "execution_count": null,
   "id": "5f4689c5-9dd0-410b-9dc3-24917251d98c",
   "metadata": {},
   "outputs": [],
   "source": []
  },
  {
   "cell_type": "code",
   "execution_count": null,
   "id": "109b6350-c2db-49de-b10f-43f5b8bbf37c",
   "metadata": {},
   "outputs": [],
   "source": [
    "print(silhouette_list_gmm)\n",
    "print(log_l_list)"
   ]
  },
  {
   "cell_type": "code",
   "execution_count": null,
   "id": "234ba6ad-4997-40ff-bad1-5a36bc635199",
   "metadata": {},
   "outputs": [],
   "source": [
    "best_silhouette= np.max(silhouette_list) # Best silhouette\n",
    "best_n_cluster = n_cluster_list_gmm[np.argmax(silhouette_list)] # Get n_clusters related to the best silhouette\n",
    "print(\"best k: \",best_n_cluster, \", corresponding silhouette: \", best_silhouette)\n",
    "\n",
    "# Plot\n",
    "plt.figure(figsize=(5, 3.5))\n",
    "plt.plot(n_cluster_list_gmm,silhouette_list, marker='o', markersize=5)\n",
    "plt.scatter(best_n_cluster, best_silhouette, color='r', marker='x', s=90)\n",
    "plt.grid()\n",
    "plt.xlabel('Number of clusters')\n",
    "plt.ylabel('Silhouette score')\n",
    "plt.show()\n",
    "\n",
    "plt.figure(figsize=(5, 3.5))\n",
    "plt.plot(n_cluster_list_gmm,log_l_list, marker='o', markersize=5)\n",
    "plt.grid()\n",
    "plt.xlabel('Number of clusters')\n",
    "plt.ylabel('GMM total log-likelihood score')\n",
    "plt.show()"
   ]
  },
  {
   "cell_type": "markdown",
   "id": "b343c696-ab1c-4f85-831c-11bf1abee8a0",
   "metadata": {},
   "source": [
    "## 3.2 Tuning other hyperparameters"
   ]
  },
  {
   "cell_type": "code",
   "execution_count": null,
   "id": "672005d1-515c-4422-a82c-19e1f5c7c2a0",
   "metadata": {},
   "outputs": [],
   "source": [
    "param_grid_kmeans = {\n",
    "    'init': ['k-means++', 'random'],\n",
    "    'n_init':  [1, 4, 10],\n",
    "    'max_iter':  [50, 100, 150],\n",
    "}\n",
    "\n",
    "kmeans = KMeans(n_clusters=8, random_state=42)\n",
    "grid_search_kmeans = GridSearchCV(kmeans, param_grid = param_grid_kmeans, cv=3)\n",
    "grid_search_kmeans.fit(X)\n",
    "\n",
    "best_params_kmeans = grid_search_kmeans.best_params_\n",
    "print(\"Best parameters:\", best_params_kmeans)\n"
   ]
  },
  {
   "cell_type": "code",
   "execution_count": null,
   "id": "5538aff7-1420-4cc5-91d8-07356f487eb9",
   "metadata": {},
   "outputs": [],
   "source": [
    "kmeans_t = KMeans(n_clusters = 8, init = best_params_kmeans['init'], n_init = best_params_kmeans['n_init'], max_iter = best_params_kmeans['max_iter'], random_state=42)\n",
    "cl_labels_tuned = kmeans_t.fit_predict(X)\n",
    "    \n",
    "silhouette_kmeans_tuned = silhouette_score(X, kmeans_t.labels_)\n",
    "wcss = (kmeans_t.inertia_)\n",
    "print(\"Silhouette: \", silhouette_kmeans_tuned)\n",
    "print(\"Inertia: \", wcss)"
   ]
  },
  {
   "cell_type": "markdown",
   "id": "57ffd897-7f4a-4edc-9178-339e3d664660",
   "metadata": {},
   "source": [
    "### 3.2.2 GMM"
   ]
  },
  {
   "cell_type": "code",
   "execution_count": 10,
   "id": "c3d68a8e-f85b-4255-a781-f90bc9fd1ecd",
   "metadata": {},
   "outputs": [
    {
     "name": "stdout",
     "output_type": "stream",
     "text": [
      "Best parameters: {'covariance_type': 'full', 'max_iter': 50, 'tol': 0.001}\n"
     ]
    }
   ],
   "source": [
    "param_grid_gmm = {\n",
    "    'covariance_type': ['full', 'spherical'],\n",
    "    'tol': [1e-3, 1e-4], \n",
    "    'max_iter': [50, 100, 150],\n",
    "}\n",
    "\n",
    "def silhouette_scoring(gmm, X):\n",
    "    labels = gmm.fit_predict(X)\n",
    "    return silhouette_score(X, labels)\n",
    "\n",
    "# Create GaussianMixture object\n",
    "gmm_to_tune = GaussianMixture(n_components=8,random_state=42)\n",
    "\n",
    "grid_search_gmm = GridSearchCV(gmm_to_tune, param_grid_gmm, scoring = silhouette_scoring, cv = 3)\n",
    "grid_search_gmm.fit(X)\n",
    "\n",
    "best_params_gmm = grid_search_gmm.best_params_\n",
    "print(\"Best parameters:\", best_params_gmm)"
   ]
  },
  {
   "cell_type": "code",
   "execution_count": null,
   "id": "e3ea6344-697c-46ae-8258-23ca1fb2a4a4",
   "metadata": {},
   "outputs": [],
   "source": [
    "w qbQ "
   ]
  },
  {
   "cell_type": "code",
   "execution_count": 12,
   "id": "7c34ba14-0ccf-4a82-adcc-b82f33513f81",
   "metadata": {},
   "outputs": [
    {
     "name": "stdout",
     "output_type": "stream",
     "text": [
      "Silhouette:  0.8874511047300687\n",
      "Log-l:  238.7523602706648\n"
     ]
    }
   ],
   "source": [
    "gmm_t = GaussianMixture(n_components = 10, random_state=42, covariance_type=best_params_gmm['covariance_type'], max_iter=best_params_gmm['max_iter'], tol=best_params_gmm['tol'])\n",
    "gmm_label_t = gmm_t.fit_predict(X)\n",
    "silhouette_gmm_tuned = silhouette_score(X, gmm_label_t)\n",
    "log_l_t = (gmm_t.score(X))\n",
    "print(\"Silhouette: \", silhouette_gmm_tuned)\n",
    "print(\"Log-l: \", log_l_t)"
   ]
  },
  {
   "cell_type": "code",
   "execution_count": null,
   "id": "02af8fe7-9629-442a-acdd-dc9e419c56d1",
   "metadata": {},
   "outputs": [],
   "source": []
  }
 ],
 "metadata": {
  "kernelspec": {
   "display_name": "Python 3 (ipykernel)",
   "language": "python",
   "name": "python3"
  },
  "language_info": {
   "codemirror_mode": {
    "name": "ipython",
    "version": 3
   },
   "file_extension": ".py",
   "mimetype": "text/x-python",
   "name": "python",
   "nbconvert_exporter": "python",
   "pygments_lexer": "ipython3",
   "version": "3.11.2"
  }
 },
 "nbformat": 4,
 "nbformat_minor": 5
}
