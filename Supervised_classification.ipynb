{
 "cells": [
  {
   "cell_type": "markdown",
   "id": "70985585-837d-4509-ae6d-df38e208e3ab",
   "metadata": {},
   "source": [
    "## Section 2 – Supervised learning – classification"
   ]
  },
  {
   "cell_type": "code",
   "execution_count": null,
   "id": "2ffa1277-0a2c-401f-9ba8-9dbb826b843a",
   "metadata": {},
   "outputs": [],
   "source": []
  }
 ],
 "metadata": {
  "kernelspec": {
   "display_name": "Python 3 (ipykernel)",
   "language": "python",
   "name": "python3"
  },
  "language_info": {
   "codemirror_mode": {
    "name": "ipython",
    "version": 3
   },
   "file_extension": ".py",
   "mimetype": "text/x-python",
   "name": "python",
   "nbconvert_exporter": "python",
   "pygments_lexer": "ipython3",
   "version": "3.11.2"
  }
 },
 "nbformat": 4,
 "nbformat_minor": 5
}
