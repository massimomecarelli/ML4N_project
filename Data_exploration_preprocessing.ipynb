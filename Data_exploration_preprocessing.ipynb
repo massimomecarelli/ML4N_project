{
 "cells": [
  {
   "cell_type": "markdown",
   "id": "a2cfbb71-32e2-4559-bbd2-c05864f54af7",
   "metadata": {},
   "source": [
    "# Section 1 – Data exploration and pre-processing"
   ]
  },
  {
   "cell_type": "code",
   "execution_count": null,
   "id": "feae0d53-6b14-4c92-bfd2-543b5e0a25be",
   "metadata": {},
   "outputs": [],
   "source": []
  }
 ],
 "metadata": {
  "kernelspec": {
   "display_name": "Python 3 (ipykernel)",
   "language": "python",
   "name": "python3"
  },
  "language_info": {
   "codemirror_mode": {
    "name": "ipython",
    "version": 3
   },
   "file_extension": ".py",
   "mimetype": "text/x-python",
   "name": "python",
   "nbconvert_exporter": "python",
   "pygments_lexer": "ipython3",
   "version": "3.11.2"
  }
 },
 "nbformat": 4,
 "nbformat_minor": 5
}
